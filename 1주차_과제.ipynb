{
  "cells": [
    {
      "cell_type": "markdown",
      "metadata": {
        "id": "view-in-github",
        "colab_type": "text"
      },
      "source": [
        "<a href=\"https://colab.research.google.com/github/ovis1me1me/STUDY_PANDAS/blob/main/1%EC%A3%BC%EC%B0%A8_%EA%B3%BC%EC%A0%9C.ipynb\" target=\"_parent\"><img src=\"https://colab.research.google.com/assets/colab-badge.svg\" alt=\"Open In Colab\"/></a>"
      ]
    },
    {
      "cell_type": "code",
      "execution_count": 3,
      "metadata": {
        "id": "PBqS-at26Cla"
      },
      "outputs": [],
      "source": [
        "# 판다스 라이브러리 추가하기\n",
        "import pandas as pd\n",
        "# 데이터 프레임 불러오기\n",
        "df=pd.read_csv('/content/sample_data/movie-ratings.csv')"
      ]
    },
    {
      "cell_type": "code",
      "execution_count": 5,
      "metadata": {
        "id": "blnvWT_P8Kej",
        "colab": {
          "base_uri": "https://localhost:8080/"
        },
        "outputId": "f2637ae0-23e0-44f0-e719-af53253e29a7"
      },
      "outputs": [
        {
          "output_type": "stream",
          "name": "stdout",
          "text": [
            "<class 'pandas.core.frame.DataFrame'>\n",
            "RangeIndex: 559 entries, 0 to 558\n",
            "Data columns (total 6 columns):\n",
            " #   Column                 Non-Null Count  Dtype \n",
            "---  ------                 --------------  ----- \n",
            " 0   Film                   559 non-null    object\n",
            " 1   Genre                  559 non-null    object\n",
            " 2   RottenTomatoesRatings  559 non-null    int64 \n",
            " 3   AudienceRatings        559 non-null    int64 \n",
            " 4   Budget(million)        559 non-null    int64 \n",
            " 5   Yearofrelease          559 non-null    int64 \n",
            "dtypes: int64(4), object(2)\n",
            "memory usage: 26.3+ KB\n",
            "None\n"
          ]
        }
      ],
      "source": [
        "# 데이터 프레임 기본 정보 출력하기\n",
        "print(df.info())"
      ]
    },
    {
      "cell_type": "code",
      "execution_count": 25,
      "metadata": {
        "id": "dO9YYp1q86He",
        "colab": {
          "base_uri": "https://localhost:8080/"
        },
        "outputId": "2f88e744-7dfc-4f44-9698-3d579cb66821"
      },
      "outputs": [
        {
          "output_type": "stream",
          "name": "stdout",
          "text": [
            "                   Film      Genre  RottenTomatoesRatings  AudienceRatings  \\\n",
            "0  (500) Days of Summer     Comedy                     87               81   \n",
            "1           10,000 B.C.  Adventure                      9               44   \n",
            "2             12 Rounds     Action                     30               52   \n",
            "3             127 Hours  Adventure                     93               84   \n",
            "4              17 Again     Comedy                     55               70   \n",
            "\n",
            "   Budget(million)  Yearofrelease  \n",
            "0                8           2009  \n",
            "1              105           2008  \n",
            "2               20           2009  \n",
            "3               18           2010  \n",
            "4               20           2009  \n"
          ]
        }
      ],
      "source": [
        "# 앞 5개 데이터 출력\n",
        "print(df.head(5))\n"
      ]
    },
    {
      "cell_type": "code",
      "execution_count": 8,
      "metadata": {
        "id": "Ut11KetU9oJG",
        "colab": {
          "base_uri": "https://localhost:8080/"
        },
        "outputId": "2908b5ae-651c-4acc-ebb4-933fc5eb19d3"
      },
      "outputs": [
        {
          "output_type": "stream",
          "name": "stdout",
          "text": [
            "<class 'pandas.core.frame.DataFrame'>\n"
          ]
        }
      ],
      "source": [
        "# 데이터 프레임 타입 확인하기\n",
        "print(type(df))"
      ]
    },
    {
      "cell_type": "code",
      "execution_count": 9,
      "metadata": {
        "id": "DT7TbNj893VJ",
        "colab": {
          "base_uri": "https://localhost:8080/"
        },
        "outputId": "c27bd94b-c60e-4304-8018-67bbede170db"
      },
      "outputs": [
        {
          "output_type": "stream",
          "name": "stdout",
          "text": [
            "(559, 6)\n"
          ]
        }
      ],
      "source": [
        "# 데이터 프레임 크기 확인하기\n",
        "print(df.shape)"
      ]
    },
    {
      "cell_type": "code",
      "execution_count": 10,
      "metadata": {
        "id": "1uxaJP0z-tRV",
        "colab": {
          "base_uri": "https://localhost:8080/"
        },
        "outputId": "a5ee20b3-ea76-4e6b-b6de-7c52ea06c0df"
      },
      "outputs": [
        {
          "output_type": "stream",
          "name": "stdout",
          "text": [
            "Index(['Film', 'Genre', 'RottenTomatoesRatings', 'AudienceRatings',\n",
            "       'Budget(million)', 'Yearofrelease'],\n",
            "      dtype='object')\n"
          ]
        }
      ],
      "source": [
        "# 데이터 프레임 컬럼 이름 출력\n",
        "print(df.columns)"
      ]
    },
    {
      "cell_type": "code",
      "execution_count": 12,
      "metadata": {
        "id": "W1q7fWx__Ku8",
        "colab": {
          "base_uri": "https://localhost:8080/"
        },
        "outputId": "522e8b5a-7d34-4690-a1e0-9ee9a71c2b59"
      },
      "outputs": [
        {
          "output_type": "stream",
          "name": "stdout",
          "text": [
            "0      2009\n",
            "1      2008\n",
            "2      2009\n",
            "3      2010\n",
            "4      2009\n",
            "       ... \n",
            "554    2011\n",
            "555    2009\n",
            "556    2007\n",
            "557    2009\n",
            "558    2011\n",
            "Name: Yearofrelease, Length: 559, dtype: int64\n"
          ]
        }
      ],
      "source": [
        "# Budget(million)\tYearofrelease 컬럼의 데이터 출력하기\n",
        "year_df=df['Yearofrelease']\n",
        "print(year_df)"
      ]
    },
    {
      "cell_type": "code",
      "execution_count": 24,
      "metadata": {
        "id": "iofTnEXeAN-u",
        "colab": {
          "base_uri": "https://localhost:8080/"
        },
        "outputId": "51edfa1d-1c32-4576-b40f-f25d4459883a"
      },
      "outputs": [
        {
          "output_type": "execute_result",
          "data": {
            "text/plain": [
              "0     2009\n",
              "1     2008\n",
              "2     2009\n",
              "3     2010\n",
              "4     2009\n",
              "5     2009\n",
              "6     2008\n",
              "7     2007\n",
              "8     2011\n",
              "9     2011\n",
              "10    2007\n",
              "Name: Yearofrelease, dtype: int64"
            ]
          },
          "metadata": {},
          "execution_count": 24
        }
      ],
      "source": [
        "# Budget(million)\tYearofrelease의 0번 행부터 10번 행까지 출력하기\n",
        "year_df[:11]"
      ]
    },
    {
      "cell_type": "code",
      "execution_count": 23,
      "metadata": {
        "id": "8vZbmJ_kBJUI",
        "colab": {
          "base_uri": "https://localhost:8080/",
          "height": 394
        },
        "outputId": "a9e733ed-214f-4d70-ab53-2f8c9057b31b"
      },
      "outputs": [
        {
          "output_type": "execute_result",
          "data": {
            "text/plain": [
              "                    Film      Genre  RottenTomatoesRatings  AudienceRatings  \\\n",
              "0   (500) Days of Summer     Comedy                     87               81   \n",
              "1            10,000 B.C.  Adventure                      9               44   \n",
              "2              12 Rounds     Action                     30               52   \n",
              "3              127 Hours  Adventure                     93               84   \n",
              "4               17 Again     Comedy                     55               70   \n",
              "5                   2012     Action                     39               63   \n",
              "6             27 Dresses     Comedy                     40               71   \n",
              "7       30 Days of Night     Horror                     50               57   \n",
              "8     30 Minutes or Less     Comedy                     43               48   \n",
              "9                  50/50     Comedy                     93               93   \n",
              "10            88 Minutes      Drama                      5               51   \n",
              "\n",
              "    Budget(million)  \n",
              "0                 8  \n",
              "1               105  \n",
              "2                20  \n",
              "3                18  \n",
              "4                20  \n",
              "5               200  \n",
              "6                30  \n",
              "7                32  \n",
              "8                28  \n",
              "9                 8  \n",
              "10               30  "
            ],
            "text/html": [
              "\n",
              "  <div id=\"df-484a9e72-5bca-425a-8c24-f6618bdde817\">\n",
              "    <div class=\"colab-df-container\">\n",
              "      <div>\n",
              "<style scoped>\n",
              "    .dataframe tbody tr th:only-of-type {\n",
              "        vertical-align: middle;\n",
              "    }\n",
              "\n",
              "    .dataframe tbody tr th {\n",
              "        vertical-align: top;\n",
              "    }\n",
              "\n",
              "    .dataframe thead th {\n",
              "        text-align: right;\n",
              "    }\n",
              "</style>\n",
              "<table border=\"1\" class=\"dataframe\">\n",
              "  <thead>\n",
              "    <tr style=\"text-align: right;\">\n",
              "      <th></th>\n",
              "      <th>Film</th>\n",
              "      <th>Genre</th>\n",
              "      <th>RottenTomatoesRatings</th>\n",
              "      <th>AudienceRatings</th>\n",
              "      <th>Budget(million)</th>\n",
              "    </tr>\n",
              "  </thead>\n",
              "  <tbody>\n",
              "    <tr>\n",
              "      <th>0</th>\n",
              "      <td>(500) Days of Summer</td>\n",
              "      <td>Comedy</td>\n",
              "      <td>87</td>\n",
              "      <td>81</td>\n",
              "      <td>8</td>\n",
              "    </tr>\n",
              "    <tr>\n",
              "      <th>1</th>\n",
              "      <td>10,000 B.C.</td>\n",
              "      <td>Adventure</td>\n",
              "      <td>9</td>\n",
              "      <td>44</td>\n",
              "      <td>105</td>\n",
              "    </tr>\n",
              "    <tr>\n",
              "      <th>2</th>\n",
              "      <td>12 Rounds</td>\n",
              "      <td>Action</td>\n",
              "      <td>30</td>\n",
              "      <td>52</td>\n",
              "      <td>20</td>\n",
              "    </tr>\n",
              "    <tr>\n",
              "      <th>3</th>\n",
              "      <td>127 Hours</td>\n",
              "      <td>Adventure</td>\n",
              "      <td>93</td>\n",
              "      <td>84</td>\n",
              "      <td>18</td>\n",
              "    </tr>\n",
              "    <tr>\n",
              "      <th>4</th>\n",
              "      <td>17 Again</td>\n",
              "      <td>Comedy</td>\n",
              "      <td>55</td>\n",
              "      <td>70</td>\n",
              "      <td>20</td>\n",
              "    </tr>\n",
              "    <tr>\n",
              "      <th>5</th>\n",
              "      <td>2012</td>\n",
              "      <td>Action</td>\n",
              "      <td>39</td>\n",
              "      <td>63</td>\n",
              "      <td>200</td>\n",
              "    </tr>\n",
              "    <tr>\n",
              "      <th>6</th>\n",
              "      <td>27 Dresses</td>\n",
              "      <td>Comedy</td>\n",
              "      <td>40</td>\n",
              "      <td>71</td>\n",
              "      <td>30</td>\n",
              "    </tr>\n",
              "    <tr>\n",
              "      <th>7</th>\n",
              "      <td>30 Days of Night</td>\n",
              "      <td>Horror</td>\n",
              "      <td>50</td>\n",
              "      <td>57</td>\n",
              "      <td>32</td>\n",
              "    </tr>\n",
              "    <tr>\n",
              "      <th>8</th>\n",
              "      <td>30 Minutes or Less</td>\n",
              "      <td>Comedy</td>\n",
              "      <td>43</td>\n",
              "      <td>48</td>\n",
              "      <td>28</td>\n",
              "    </tr>\n",
              "    <tr>\n",
              "      <th>9</th>\n",
              "      <td>50/50</td>\n",
              "      <td>Comedy</td>\n",
              "      <td>93</td>\n",
              "      <td>93</td>\n",
              "      <td>8</td>\n",
              "    </tr>\n",
              "    <tr>\n",
              "      <th>10</th>\n",
              "      <td>88 Minutes</td>\n",
              "      <td>Drama</td>\n",
              "      <td>5</td>\n",
              "      <td>51</td>\n",
              "      <td>30</td>\n",
              "    </tr>\n",
              "  </tbody>\n",
              "</table>\n",
              "</div>\n",
              "      <button class=\"colab-df-convert\" onclick=\"convertToInteractive('df-484a9e72-5bca-425a-8c24-f6618bdde817')\"\n",
              "              title=\"Convert this dataframe to an interactive table.\"\n",
              "              style=\"display:none;\">\n",
              "        \n",
              "  <svg xmlns=\"http://www.w3.org/2000/svg\" height=\"24px\"viewBox=\"0 0 24 24\"\n",
              "       width=\"24px\">\n",
              "    <path d=\"M0 0h24v24H0V0z\" fill=\"none\"/>\n",
              "    <path d=\"M18.56 5.44l.94 2.06.94-2.06 2.06-.94-2.06-.94-.94-2.06-.94 2.06-2.06.94zm-11 1L8.5 8.5l.94-2.06 2.06-.94-2.06-.94L8.5 2.5l-.94 2.06-2.06.94zm10 10l.94 2.06.94-2.06 2.06-.94-2.06-.94-.94-2.06-.94 2.06-2.06.94z\"/><path d=\"M17.41 7.96l-1.37-1.37c-.4-.4-.92-.59-1.43-.59-.52 0-1.04.2-1.43.59L10.3 9.45l-7.72 7.72c-.78.78-.78 2.05 0 2.83L4 21.41c.39.39.9.59 1.41.59.51 0 1.02-.2 1.41-.59l7.78-7.78 2.81-2.81c.8-.78.8-2.07 0-2.86zM5.41 20L4 18.59l7.72-7.72 1.47 1.35L5.41 20z\"/>\n",
              "  </svg>\n",
              "      </button>\n",
              "      \n",
              "  <style>\n",
              "    .colab-df-container {\n",
              "      display:flex;\n",
              "      flex-wrap:wrap;\n",
              "      gap: 12px;\n",
              "    }\n",
              "\n",
              "    .colab-df-convert {\n",
              "      background-color: #E8F0FE;\n",
              "      border: none;\n",
              "      border-radius: 50%;\n",
              "      cursor: pointer;\n",
              "      display: none;\n",
              "      fill: #1967D2;\n",
              "      height: 32px;\n",
              "      padding: 0 0 0 0;\n",
              "      width: 32px;\n",
              "    }\n",
              "\n",
              "    .colab-df-convert:hover {\n",
              "      background-color: #E2EBFA;\n",
              "      box-shadow: 0px 1px 2px rgba(60, 64, 67, 0.3), 0px 1px 3px 1px rgba(60, 64, 67, 0.15);\n",
              "      fill: #174EA6;\n",
              "    }\n",
              "\n",
              "    [theme=dark] .colab-df-convert {\n",
              "      background-color: #3B4455;\n",
              "      fill: #D2E3FC;\n",
              "    }\n",
              "\n",
              "    [theme=dark] .colab-df-convert:hover {\n",
              "      background-color: #434B5C;\n",
              "      box-shadow: 0px 1px 3px 1px rgba(0, 0, 0, 0.15);\n",
              "      filter: drop-shadow(0px 1px 2px rgba(0, 0, 0, 0.3));\n",
              "      fill: #FFFFFF;\n",
              "    }\n",
              "  </style>\n",
              "\n",
              "      <script>\n",
              "        const buttonEl =\n",
              "          document.querySelector('#df-484a9e72-5bca-425a-8c24-f6618bdde817 button.colab-df-convert');\n",
              "        buttonEl.style.display =\n",
              "          google.colab.kernel.accessAllowed ? 'block' : 'none';\n",
              "\n",
              "        async function convertToInteractive(key) {\n",
              "          const element = document.querySelector('#df-484a9e72-5bca-425a-8c24-f6618bdde817');\n",
              "          const dataTable =\n",
              "            await google.colab.kernel.invokeFunction('convertToInteractive',\n",
              "                                                     [key], {});\n",
              "          if (!dataTable) return;\n",
              "\n",
              "          const docLinkHtml = 'Like what you see? Visit the ' +\n",
              "            '<a target=\"_blank\" href=https://colab.research.google.com/notebooks/data_table.ipynb>data table notebook</a>'\n",
              "            + ' to learn more about interactive tables.';\n",
              "          element.innerHTML = '';\n",
              "          dataTable['output_type'] = 'display_data';\n",
              "          await google.colab.output.renderOutput(dataTable, element);\n",
              "          const docLink = document.createElement('div');\n",
              "          docLink.innerHTML = docLinkHtml;\n",
              "          element.appendChild(docLink);\n",
              "        }\n",
              "      </script>\n",
              "    </div>\n",
              "  </div>\n",
              "  "
            ]
          },
          "metadata": {},
          "execution_count": 23
        }
      ],
      "source": [
        "# 0~10번 행과 0~4번 컬럼 출력하기\n",
        "df.iloc[:11,:5]"
      ]
    },
    {
      "cell_type": "markdown",
      "metadata": {
        "id": "Gf0S4Mod74gK"
      },
      "source": []
    }
  ],
  "metadata": {
    "colab": {
      "provenance": [],
      "include_colab_link": true
    },
    "kernelspec": {
      "display_name": "Python 3.10.2 64-bit",
      "language": "python",
      "name": "python3"
    },
    "language_info": {
      "name": "python",
      "version": "3.10.2"
    },
    "vscode": {
      "interpreter": {
        "hash": "12112f469f6d2fc95febce102caaacfb5ceea5468de125162051df71cef92aaa"
      }
    }
  },
  "nbformat": 4,
  "nbformat_minor": 0
}